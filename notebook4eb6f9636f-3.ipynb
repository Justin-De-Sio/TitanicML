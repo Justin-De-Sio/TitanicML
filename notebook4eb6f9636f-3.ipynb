{
 "metadata": {
  "kernelspec": {
   "display_name": "Python 3",
   "language": "python",
   "name": "python3"
  },
  "language_info": {
   "name": "python",
   "version": "3.10.12",
   "mimetype": "text/x-python",
   "codemirror_mode": {
    "name": "ipython",
    "version": 3
   },
   "pygments_lexer": "ipython3",
   "nbconvert_exporter": "python",
   "file_extension": ".py"
  }
 },
 "nbformat_minor": 4,
 "nbformat": 4,
 "cells": [
  {
   "cell_type": "code",
   "source": [
    "import pandas as pd\n",
    "import numpy as np\n",
    "import seaborn as sns\n",
    "import matplotlib.pyplot as plt\n",
    "from sklearn.model_selection import train_test_split,RandomizedSearchCV\n",
    "from sklearn.metrics import confusion_matrix, accuracy_score\n",
    "from sklearn.preprocessing import LabelEncoder\n",
    "from sklearn.ensemble import RandomForestClassifier\n",
    "import pickle\n",
    "\n",
    "\n",
    "sns.set()"
   ],
   "metadata": {
    "id": "xoR6ajkemwcV",
    "execution": {
     "iopub.status.busy": "2023-11-10T07:07:43.976723Z",
     "iopub.execute_input": "2023-11-10T07:07:43.977293Z",
     "iopub.status.idle": "2023-11-10T07:07:43.986777Z",
     "shell.execute_reply.started": "2023-11-10T07:07:43.977251Z",
     "shell.execute_reply": "2023-11-10T07:07:43.985260Z"
    },
    "trusted": true,
    "ExecuteTime": {
     "end_time": "2023-11-14T09:07:23.816053Z",
     "start_time": "2023-11-14T09:07:23.722919Z"
    }
   },
   "execution_count": 3,
   "outputs": []
  },
  {
   "cell_type": "code",
   "source": [
    "test_path = \"test.csv\"\n",
    "train_path = \"train.csv\"\n",
    "\n",
    "x_test = pd.read_csv(test_path)\n",
    "x_train = pd.read_csv(train_path)"
   ],
   "metadata": {
    "id": "z0IGYubAm8yh",
    "execution": {
     "iopub.status.busy": "2023-11-10T07:07:43.989424Z",
     "iopub.execute_input": "2023-11-10T07:07:43.989827Z",
     "iopub.status.idle": "2023-11-10T07:07:44.023665Z",
     "shell.execute_reply.started": "2023-11-10T07:07:43.989794Z",
     "shell.execute_reply": "2023-11-10T07:07:44.022176Z"
    },
    "trusted": true,
    "ExecuteTime": {
     "end_time": "2023-11-14T09:07:23.846404Z",
     "start_time": "2023-11-14T09:07:23.725718Z"
    }
   },
   "execution_count": 4,
   "outputs": []
  },
  {
   "cell_type": "code",
   "source": [
    "x_train.head()"
   ],
   "metadata": {
    "id": "DYfGP_lqqOrK",
    "outputId": "a09a80c0-c262-4127-d4f8-159ed932692f",
    "execution": {
     "iopub.status.busy": "2023-11-10T07:07:44.059485Z",
     "iopub.execute_input": "2023-11-10T07:07:44.059938Z",
     "iopub.status.idle": "2023-11-10T07:07:44.079406Z",
     "shell.execute_reply.started": "2023-11-10T07:07:44.059903Z",
     "shell.execute_reply": "2023-11-10T07:07:44.078308Z"
    },
    "trusted": true,
    "ExecuteTime": {
     "end_time": "2023-11-14T09:07:23.873261Z",
     "start_time": "2023-11-14T09:07:23.735273Z"
    }
   },
   "execution_count": 5,
   "outputs": [
    {
     "data": {
      "text/plain": "   PassengerId  Survived  Pclass  \\\n0            1         0       3   \n1            2         1       1   \n2            3         1       3   \n3            4         1       1   \n4            5         0       3   \n\n                                                Name     Sex   Age  SibSp  \\\n0                            Braund, Mr. Owen Harris    male  22.0      1   \n1  Cumings, Mrs. John Bradley (Florence Briggs Th...  female  38.0      1   \n2                             Heikkinen, Miss. Laina  female  26.0      0   \n3       Futrelle, Mrs. Jacques Heath (Lily May Peel)  female  35.0      1   \n4                           Allen, Mr. William Henry    male  35.0      0   \n\n   Parch            Ticket     Fare Cabin Embarked  \n0      0         A/5 21171   7.2500   NaN        S  \n1      0          PC 17599  71.2833   C85        C  \n2      0  STON/O2. 3101282   7.9250   NaN        S  \n3      0            113803  53.1000  C123        S  \n4      0            373450   8.0500   NaN        S  ",
      "text/html": "<div>\n<style scoped>\n    .dataframe tbody tr th:only-of-type {\n        vertical-align: middle;\n    }\n\n    .dataframe tbody tr th {\n        vertical-align: top;\n    }\n\n    .dataframe thead th {\n        text-align: right;\n    }\n</style>\n<table border=\"1\" class=\"dataframe\">\n  <thead>\n    <tr style=\"text-align: right;\">\n      <th></th>\n      <th>PassengerId</th>\n      <th>Survived</th>\n      <th>Pclass</th>\n      <th>Name</th>\n      <th>Sex</th>\n      <th>Age</th>\n      <th>SibSp</th>\n      <th>Parch</th>\n      <th>Ticket</th>\n      <th>Fare</th>\n      <th>Cabin</th>\n      <th>Embarked</th>\n    </tr>\n  </thead>\n  <tbody>\n    <tr>\n      <th>0</th>\n      <td>1</td>\n      <td>0</td>\n      <td>3</td>\n      <td>Braund, Mr. Owen Harris</td>\n      <td>male</td>\n      <td>22.0</td>\n      <td>1</td>\n      <td>0</td>\n      <td>A/5 21171</td>\n      <td>7.2500</td>\n      <td>NaN</td>\n      <td>S</td>\n    </tr>\n    <tr>\n      <th>1</th>\n      <td>2</td>\n      <td>1</td>\n      <td>1</td>\n      <td>Cumings, Mrs. John Bradley (Florence Briggs Th...</td>\n      <td>female</td>\n      <td>38.0</td>\n      <td>1</td>\n      <td>0</td>\n      <td>PC 17599</td>\n      <td>71.2833</td>\n      <td>C85</td>\n      <td>C</td>\n    </tr>\n    <tr>\n      <th>2</th>\n      <td>3</td>\n      <td>1</td>\n      <td>3</td>\n      <td>Heikkinen, Miss. Laina</td>\n      <td>female</td>\n      <td>26.0</td>\n      <td>0</td>\n      <td>0</td>\n      <td>STON/O2. 3101282</td>\n      <td>7.9250</td>\n      <td>NaN</td>\n      <td>S</td>\n    </tr>\n    <tr>\n      <th>3</th>\n      <td>4</td>\n      <td>1</td>\n      <td>1</td>\n      <td>Futrelle, Mrs. Jacques Heath (Lily May Peel)</td>\n      <td>female</td>\n      <td>35.0</td>\n      <td>1</td>\n      <td>0</td>\n      <td>113803</td>\n      <td>53.1000</td>\n      <td>C123</td>\n      <td>S</td>\n    </tr>\n    <tr>\n      <th>4</th>\n      <td>5</td>\n      <td>0</td>\n      <td>3</td>\n      <td>Allen, Mr. William Henry</td>\n      <td>male</td>\n      <td>35.0</td>\n      <td>0</td>\n      <td>0</td>\n      <td>373450</td>\n      <td>8.0500</td>\n      <td>NaN</td>\n      <td>S</td>\n    </tr>\n  </tbody>\n</table>\n</div>"
     },
     "execution_count": 5,
     "metadata": {},
     "output_type": "execute_result"
    }
   ]
  },
  {
   "cell_type": "code",
   "source": [
    "x_train.describe()"
   ],
   "metadata": {
    "id": "6Kj4rlHwqSeS",
    "outputId": "12409329-21f8-4c94-aa75-4503f5f98096",
    "execution": {
     "iopub.status.busy": "2023-11-10T07:07:44.125110Z",
     "iopub.execute_input": "2023-11-10T07:07:44.125591Z",
     "iopub.status.idle": "2023-11-10T07:07:44.167051Z",
     "shell.execute_reply.started": "2023-11-10T07:07:44.125557Z",
     "shell.execute_reply": "2023-11-10T07:07:44.165746Z"
    },
    "trusted": true,
    "ExecuteTime": {
     "end_time": "2023-11-14T09:07:23.874453Z",
     "start_time": "2023-11-14T09:07:23.744052Z"
    }
   },
   "execution_count": 6,
   "outputs": [
    {
     "data": {
      "text/plain": "       PassengerId    Survived      Pclass         Age       SibSp  \\\ncount   891.000000  891.000000  891.000000  714.000000  891.000000   \nmean    446.000000    0.383838    2.308642   29.699118    0.523008   \nstd     257.353842    0.486592    0.836071   14.526497    1.102743   \nmin       1.000000    0.000000    1.000000    0.420000    0.000000   \n25%     223.500000    0.000000    2.000000   20.125000    0.000000   \n50%     446.000000    0.000000    3.000000   28.000000    0.000000   \n75%     668.500000    1.000000    3.000000   38.000000    1.000000   \nmax     891.000000    1.000000    3.000000   80.000000    8.000000   \n\n            Parch        Fare  \ncount  891.000000  891.000000  \nmean     0.381594   32.204208  \nstd      0.806057   49.693429  \nmin      0.000000    0.000000  \n25%      0.000000    7.910400  \n50%      0.000000   14.454200  \n75%      0.000000   31.000000  \nmax      6.000000  512.329200  ",
      "text/html": "<div>\n<style scoped>\n    .dataframe tbody tr th:only-of-type {\n        vertical-align: middle;\n    }\n\n    .dataframe tbody tr th {\n        vertical-align: top;\n    }\n\n    .dataframe thead th {\n        text-align: right;\n    }\n</style>\n<table border=\"1\" class=\"dataframe\">\n  <thead>\n    <tr style=\"text-align: right;\">\n      <th></th>\n      <th>PassengerId</th>\n      <th>Survived</th>\n      <th>Pclass</th>\n      <th>Age</th>\n      <th>SibSp</th>\n      <th>Parch</th>\n      <th>Fare</th>\n    </tr>\n  </thead>\n  <tbody>\n    <tr>\n      <th>count</th>\n      <td>891.000000</td>\n      <td>891.000000</td>\n      <td>891.000000</td>\n      <td>714.000000</td>\n      <td>891.000000</td>\n      <td>891.000000</td>\n      <td>891.000000</td>\n    </tr>\n    <tr>\n      <th>mean</th>\n      <td>446.000000</td>\n      <td>0.383838</td>\n      <td>2.308642</td>\n      <td>29.699118</td>\n      <td>0.523008</td>\n      <td>0.381594</td>\n      <td>32.204208</td>\n    </tr>\n    <tr>\n      <th>std</th>\n      <td>257.353842</td>\n      <td>0.486592</td>\n      <td>0.836071</td>\n      <td>14.526497</td>\n      <td>1.102743</td>\n      <td>0.806057</td>\n      <td>49.693429</td>\n    </tr>\n    <tr>\n      <th>min</th>\n      <td>1.000000</td>\n      <td>0.000000</td>\n      <td>1.000000</td>\n      <td>0.420000</td>\n      <td>0.000000</td>\n      <td>0.000000</td>\n      <td>0.000000</td>\n    </tr>\n    <tr>\n      <th>25%</th>\n      <td>223.500000</td>\n      <td>0.000000</td>\n      <td>2.000000</td>\n      <td>20.125000</td>\n      <td>0.000000</td>\n      <td>0.000000</td>\n      <td>7.910400</td>\n    </tr>\n    <tr>\n      <th>50%</th>\n      <td>446.000000</td>\n      <td>0.000000</td>\n      <td>3.000000</td>\n      <td>28.000000</td>\n      <td>0.000000</td>\n      <td>0.000000</td>\n      <td>14.454200</td>\n    </tr>\n    <tr>\n      <th>75%</th>\n      <td>668.500000</td>\n      <td>1.000000</td>\n      <td>3.000000</td>\n      <td>38.000000</td>\n      <td>1.000000</td>\n      <td>0.000000</td>\n      <td>31.000000</td>\n    </tr>\n    <tr>\n      <th>max</th>\n      <td>891.000000</td>\n      <td>1.000000</td>\n      <td>3.000000</td>\n      <td>80.000000</td>\n      <td>8.000000</td>\n      <td>6.000000</td>\n      <td>512.329200</td>\n    </tr>\n  </tbody>\n</table>\n</div>"
     },
     "execution_count": 6,
     "metadata": {},
     "output_type": "execute_result"
    }
   ]
  },
  {
   "cell_type": "code",
   "source": [
    "x_train.info()"
   ],
   "metadata": {
    "id": "7Zf0Cz58qX6y",
    "outputId": "6eaca18d-b0f5-4dac-a01a-f71591853420",
    "execution": {
     "iopub.status.busy": "2023-11-10T07:07:44.169660Z",
     "iopub.execute_input": "2023-11-10T07:07:44.170085Z",
     "iopub.status.idle": "2023-11-10T07:07:44.186573Z",
     "shell.execute_reply.started": "2023-11-10T07:07:44.170053Z",
     "shell.execute_reply": "2023-11-10T07:07:44.184858Z"
    },
    "trusted": true,
    "ExecuteTime": {
     "end_time": "2023-11-14T09:07:23.874713Z",
     "start_time": "2023-11-14T09:07:23.760490Z"
    }
   },
   "execution_count": 7,
   "outputs": [
    {
     "name": "stdout",
     "output_type": "stream",
     "text": [
      "<class 'pandas.core.frame.DataFrame'>\n",
      "RangeIndex: 891 entries, 0 to 890\n",
      "Data columns (total 12 columns):\n",
      " #   Column       Non-Null Count  Dtype  \n",
      "---  ------       --------------  -----  \n",
      " 0   PassengerId  891 non-null    int64  \n",
      " 1   Survived     891 non-null    int64  \n",
      " 2   Pclass       891 non-null    int64  \n",
      " 3   Name         891 non-null    object \n",
      " 4   Sex          891 non-null    object \n",
      " 5   Age          714 non-null    float64\n",
      " 6   SibSp        891 non-null    int64  \n",
      " 7   Parch        891 non-null    int64  \n",
      " 8   Ticket       891 non-null    object \n",
      " 9   Fare         891 non-null    float64\n",
      " 10  Cabin        204 non-null    object \n",
      " 11  Embarked     889 non-null    object \n",
      "dtypes: float64(2), int64(5), object(5)\n",
      "memory usage: 83.7+ KB\n"
     ]
    }
   ]
  },
  {
   "cell_type": "code",
   "source": [
    "categorical = []\n",
    "numerical = []\n",
    "\n",
    "for column in x_train.columns:\n",
    "  if x_train[column].dtype == \"object\":\n",
    "    categorical.append(column)\n",
    "  else:\n",
    "    numerical.append(column)"
   ],
   "metadata": {
    "id": "5vpO7XSOq70J",
    "outputId": "ebc34589-a64f-49ba-ad9a-8247c47a0857",
    "execution": {
     "iopub.status.busy": "2023-11-10T07:07:44.188500Z",
     "iopub.execute_input": "2023-11-10T07:07:44.189109Z",
     "iopub.status.idle": "2023-11-10T07:07:44.201299Z",
     "shell.execute_reply.started": "2023-11-10T07:07:44.189055Z",
     "shell.execute_reply": "2023-11-10T07:07:44.200385Z"
    },
    "trusted": true,
    "ExecuteTime": {
     "end_time": "2023-11-14T09:07:23.874778Z",
     "start_time": "2023-11-14T09:07:23.763115Z"
    }
   },
   "execution_count": 8,
   "outputs": []
  },
  {
   "cell_type": "code",
   "source": [
    "values = x_train[\"Survived\"].value_counts()"
   ],
   "metadata": {
    "id": "d1hZLZZ-sQoR",
    "outputId": "c31b7ac6-90cd-4317-b4b3-2c4f90d5ca76",
    "execution": {
     "iopub.status.busy": "2023-11-10T07:07:44.204167Z",
     "iopub.execute_input": "2023-11-10T07:07:44.204672Z",
     "iopub.status.idle": "2023-11-10T07:07:44.216332Z",
     "shell.execute_reply.started": "2023-11-10T07:07:44.204639Z",
     "shell.execute_reply": "2023-11-10T07:07:44.215266Z"
    },
    "trusted": true,
    "ExecuteTime": {
     "end_time": "2023-11-14T09:07:23.874868Z",
     "start_time": "2023-11-14T09:07:23.765987Z"
    }
   },
   "execution_count": 9,
   "outputs": []
  },
  {
   "cell_type": "code",
   "source": [
    "def extract_first(x):\n",
    "  if str(x)[0:3] != \"nan\":\n",
    "    return str(x)[0]\n",
    "\n",
    "x_train[\"Cabin_first\"] = x_train.Cabin.apply(lambda x: extract_first(x))"
   ],
   "metadata": {
    "id": "BjzDKhy0rGoc",
    "execution": {
     "iopub.status.busy": "2023-11-10T07:07:44.217354Z",
     "iopub.execute_input": "2023-11-10T07:07:44.217697Z",
     "iopub.status.idle": "2023-11-10T07:07:44.237838Z",
     "shell.execute_reply.started": "2023-11-10T07:07:44.217669Z",
     "shell.execute_reply": "2023-11-10T07:07:44.236714Z"
    },
    "trusted": true,
    "ExecuteTime": {
     "end_time": "2023-11-14T09:07:23.874924Z",
     "start_time": "2023-11-14T09:07:23.769388Z"
    }
   },
   "execution_count": 10,
   "outputs": []
  },
  {
   "cell_type": "code",
   "source": [
    "x_train = x_train.drop(\"Cabin_first\", axis = 1)"
   ],
   "metadata": {
    "id": "l81nadX2knmt",
    "execution": {
     "iopub.status.busy": "2023-11-10T07:07:44.239130Z",
     "iopub.execute_input": "2023-11-10T07:07:44.239517Z",
     "iopub.status.idle": "2023-11-10T07:07:44.254795Z",
     "shell.execute_reply.started": "2023-11-10T07:07:44.239485Z",
     "shell.execute_reply": "2023-11-10T07:07:44.253291Z"
    },
    "trusted": true,
    "ExecuteTime": {
     "end_time": "2023-11-14T09:07:23.874978Z",
     "start_time": "2023-11-14T09:07:23.772184Z"
    }
   },
   "execution_count": 11,
   "outputs": []
  },
  {
   "cell_type": "code",
   "source": [
    "x_train[\"Ticket_first\"] = x_train[\"Ticket\"].apply(lambda x: str(x)[0])"
   ],
   "metadata": {
    "id": "cSenECrd7dsp",
    "outputId": "f3b76294-5883-404f-8709-3f5d6ffd0bc0",
    "execution": {
     "iopub.status.busy": "2023-11-10T07:07:44.256431Z",
     "iopub.execute_input": "2023-11-10T07:07:44.256803Z",
     "iopub.status.idle": "2023-11-10T07:07:44.270849Z",
     "shell.execute_reply.started": "2023-11-10T07:07:44.256770Z",
     "shell.execute_reply": "2023-11-10T07:07:44.269458Z"
    },
    "trusted": true,
    "ExecuteTime": {
     "end_time": "2023-11-14T09:07:23.886370Z",
     "start_time": "2023-11-14T09:07:23.775366Z"
    }
   },
   "execution_count": 12,
   "outputs": []
  },
  {
   "cell_type": "code",
   "source": [
    "x_train = x_train.drop(\"Ticket_first\", axis = 1)"
   ],
   "metadata": {
    "id": "rClukbxwlL6N",
    "execution": {
     "iopub.status.busy": "2023-11-10T07:07:44.272961Z",
     "iopub.execute_input": "2023-11-10T07:07:44.273498Z",
     "iopub.status.idle": "2023-11-10T07:07:44.286280Z",
     "shell.execute_reply.started": "2023-11-10T07:07:44.273396Z",
     "shell.execute_reply": "2023-11-10T07:07:44.284886Z"
    },
    "trusted": true,
    "ExecuteTime": {
     "end_time": "2023-11-14T09:07:23.886577Z",
     "start_time": "2023-11-14T09:07:23.778310Z"
    }
   },
   "execution_count": 13,
   "outputs": []
  },
  {
   "cell_type": "code",
   "source": [
    "x_train[\"Title\"] = x_train['Name'].str.split(', ', expand=True)[1].str.split('.', expand=True)[0]"
   ],
   "metadata": {
    "id": "n0bDmXmxUidL",
    "outputId": "cefba072-0926-4ef3-b8d8-826f6f694d23",
    "execution": {
     "iopub.status.busy": "2023-11-10T07:07:44.288175Z",
     "iopub.execute_input": "2023-11-10T07:07:44.288937Z",
     "iopub.status.idle": "2023-11-10T07:07:44.309472Z",
     "shell.execute_reply.started": "2023-11-10T07:07:44.288890Z",
     "shell.execute_reply": "2023-11-10T07:07:44.308293Z"
    },
    "trusted": true,
    "ExecuteTime": {
     "end_time": "2023-11-14T09:07:23.886900Z",
     "start_time": "2023-11-14T09:07:23.783637Z"
    }
   },
   "execution_count": 14,
   "outputs": []
  },
  {
   "cell_type": "code",
   "source": [
    "x_train = x_train.drop(\"Title\", axis = 1)"
   ],
   "metadata": {
    "id": "77Gd0weOloDh",
    "execution": {
     "iopub.status.busy": "2023-11-10T07:07:44.314336Z",
     "iopub.execute_input": "2023-11-10T07:07:44.314729Z",
     "iopub.status.idle": "2023-11-10T07:07:44.329111Z",
     "shell.execute_reply.started": "2023-11-10T07:07:44.314699Z",
     "shell.execute_reply": "2023-11-10T07:07:44.327738Z"
    },
    "trusted": true,
    "ExecuteTime": {
     "end_time": "2023-11-14T09:07:23.886959Z",
     "start_time": "2023-11-14T09:07:23.786333Z"
    }
   },
   "execution_count": 15,
   "outputs": []
  },
  {
   "cell_type": "code",
   "source": [
    "data1 = x_train.copy()\n",
    "data2 = x_test.copy()"
   ],
   "metadata": {
    "id": "z56o-nCUeTrB",
    "execution": {
     "iopub.status.busy": "2023-11-10T07:07:44.331078Z",
     "iopub.execute_input": "2023-11-10T07:07:44.331500Z",
     "iopub.status.idle": "2023-11-10T07:07:44.347181Z",
     "shell.execute_reply.started": "2023-11-10T07:07:44.331467Z",
     "shell.execute_reply": "2023-11-10T07:07:44.346087Z"
    },
    "trusted": true,
    "ExecuteTime": {
     "end_time": "2023-11-14T09:07:23.887029Z",
     "start_time": "2023-11-14T09:07:23.790046Z"
    }
   },
   "execution_count": 16,
   "outputs": []
  },
  {
   "cell_type": "code",
   "source": [
    "def missing_val_table(data):\n",
    "    missing_val = data.isnull().sum()\n",
    "    missing_val_perc = 100 * data.isnull().sum() / len(data)\n",
    "    table = pd.concat([missing_val, missing_val_perc], axis=1)\n",
    "    table = table.rename(columns = {0:\"Missing Values\",1:\"% of Total Values\"})\n",
    "    table = table.sort_values(by=\"% of Total Values\",ascending=False)\n",
    "    return table\n",
    "\n",
    "missing_val_table(data1)"
   ],
   "metadata": {
    "id": "XgCTW59yer55",
    "outputId": "8cdc4cdf-32a1-4a7d-b55c-e9e7acd6fc7d",
    "execution": {
     "iopub.status.busy": "2023-11-10T07:07:44.348454Z",
     "iopub.execute_input": "2023-11-10T07:07:44.349288Z",
     "iopub.status.idle": "2023-11-10T07:07:44.378100Z",
     "shell.execute_reply.started": "2023-11-10T07:07:44.349229Z",
     "shell.execute_reply": "2023-11-10T07:07:44.376621Z"
    },
    "trusted": true,
    "ExecuteTime": {
     "end_time": "2023-11-14T09:07:23.887341Z",
     "start_time": "2023-11-14T09:07:23.793997Z"
    }
   },
   "execution_count": 17,
   "outputs": [
    {
     "data": {
      "text/plain": "             Missing Values  % of Total Values\nCabin                   687          77.104377\nAge                     177          19.865320\nEmbarked                  2           0.224467\nPassengerId               0           0.000000\nSurvived                  0           0.000000\nPclass                    0           0.000000\nName                      0           0.000000\nSex                       0           0.000000\nSibSp                     0           0.000000\nParch                     0           0.000000\nTicket                    0           0.000000\nFare                      0           0.000000",
      "text/html": "<div>\n<style scoped>\n    .dataframe tbody tr th:only-of-type {\n        vertical-align: middle;\n    }\n\n    .dataframe tbody tr th {\n        vertical-align: top;\n    }\n\n    .dataframe thead th {\n        text-align: right;\n    }\n</style>\n<table border=\"1\" class=\"dataframe\">\n  <thead>\n    <tr style=\"text-align: right;\">\n      <th></th>\n      <th>Missing Values</th>\n      <th>% of Total Values</th>\n    </tr>\n  </thead>\n  <tbody>\n    <tr>\n      <th>Cabin</th>\n      <td>687</td>\n      <td>77.104377</td>\n    </tr>\n    <tr>\n      <th>Age</th>\n      <td>177</td>\n      <td>19.865320</td>\n    </tr>\n    <tr>\n      <th>Embarked</th>\n      <td>2</td>\n      <td>0.224467</td>\n    </tr>\n    <tr>\n      <th>PassengerId</th>\n      <td>0</td>\n      <td>0.000000</td>\n    </tr>\n    <tr>\n      <th>Survived</th>\n      <td>0</td>\n      <td>0.000000</td>\n    </tr>\n    <tr>\n      <th>Pclass</th>\n      <td>0</td>\n      <td>0.000000</td>\n    </tr>\n    <tr>\n      <th>Name</th>\n      <td>0</td>\n      <td>0.000000</td>\n    </tr>\n    <tr>\n      <th>Sex</th>\n      <td>0</td>\n      <td>0.000000</td>\n    </tr>\n    <tr>\n      <th>SibSp</th>\n      <td>0</td>\n      <td>0.000000</td>\n    </tr>\n    <tr>\n      <th>Parch</th>\n      <td>0</td>\n      <td>0.000000</td>\n    </tr>\n    <tr>\n      <th>Ticket</th>\n      <td>0</td>\n      <td>0.000000</td>\n    </tr>\n    <tr>\n      <th>Fare</th>\n      <td>0</td>\n      <td>0.000000</td>\n    </tr>\n  </tbody>\n</table>\n</div>"
     },
     "execution_count": 17,
     "metadata": {},
     "output_type": "execute_result"
    }
   ]
  },
  {
   "cell_type": "code",
   "source": [
    "data1[\"Age\"] = data1[\"Age\"].fillna(data1[\"Age\"].mean())\n",
    "data2[\"Age\"] = data2[\"Age\"].fillna(data2[\"Age\"].mean())\n",
    "\n",
    "data1[\"Embarked\"] = data1[\"Embarked\"].fillna(data1[\"Embarked\"].mode()[0])\n",
    "data2[\"Embarked\"] = data2[\"Embarked\"].fillna(data2[\"Embarked\"].mode()[0])"
   ],
   "metadata": {
    "id": "wxV5-QkxjGu8",
    "execution": {
     "iopub.status.busy": "2023-11-10T07:07:44.379805Z",
     "iopub.execute_input": "2023-11-10T07:07:44.380385Z",
     "iopub.status.idle": "2023-11-10T07:07:44.395706Z",
     "shell.execute_reply.started": "2023-11-10T07:07:44.380341Z",
     "shell.execute_reply": "2023-11-10T07:07:44.394786Z"
    },
    "trusted": true,
    "ExecuteTime": {
     "end_time": "2023-11-14T09:07:23.887413Z",
     "start_time": "2023-11-14T09:07:23.800802Z"
    }
   },
   "execution_count": 18,
   "outputs": []
  },
  {
   "cell_type": "code",
   "source": [
    "def assign_label_cabin(cabin):\n",
    "    if cabin in [\"D\", \"E\", \"B\", \"F\", \"C\"]:\n",
    "        return \"Cabin_high\"\n",
    "    elif cabin in [\"G\", \"A\"]:\n",
    "        return \"Cabin_middle\"\n",
    "    else:\n",
    "        return \"Cabin_low\"\n",
    "\n",
    "data1[\"Cabin\"] = data1[\"Cabin\"].apply(lambda x: str(x)[0])\n",
    "data2[\"Cabin\"] = data2[\"Cabin\"].apply(lambda x: str(x)[0])\n",
    "\n",
    "data1[\"Cabin_first\"] = data1[\"Cabin\"].apply(lambda x: assign_label_cabin(x))\n",
    "data2[\"Cabin_first\"] = data2[\"Cabin\"].apply(lambda x: assign_label_cabin(x))\n",
    "\n",
    "data1 = data1.drop(\"Cabin\", axis = 1)\n",
    "data2 = data2.drop(\"Cabin\", axis = 1)"
   ],
   "metadata": {
    "id": "0ahLPiPcU2Jd",
    "execution": {
     "iopub.status.busy": "2023-11-10T07:07:44.397113Z",
     "iopub.execute_input": "2023-11-10T07:07:44.398442Z",
     "iopub.status.idle": "2023-11-10T07:07:44.416623Z",
     "shell.execute_reply.started": "2023-11-10T07:07:44.398405Z",
     "shell.execute_reply": "2023-11-10T07:07:44.415260Z"
    },
    "trusted": true,
    "ExecuteTime": {
     "end_time": "2023-11-14T09:07:23.887467Z",
     "start_time": "2023-11-14T09:07:23.807247Z"
    }
   },
   "execution_count": 19,
   "outputs": []
  },
  {
   "cell_type": "code",
   "source": [
    "def fare_bound(x):\n",
    "  x = float(x)\n",
    "  if (x > 384.247) & (x <= 512.329):\n",
    "    return \"Very High Fare\"\n",
    "  elif (x > 256.165) & (x <= 384.247):\n",
    "    return \"High Fare\"\n",
    "  elif (x > 128.082) & (x <= 256.165):\n",
    "    return \"Normal Fare\"\n",
    "  else:\n",
    "    return \"Low Fare\"\n",
    "\n",
    "data1[\"Fare_cat\"] = data1[\"Fare\"].apply(lambda x: fare_bound(x))\n",
    "data2[\"Fare_cat\"] = data2[\"Fare\"].apply(lambda x: fare_bound(x))\n",
    "\n",
    "data1 = data1.drop(\"Fare\", axis = 1)\n",
    "data2 = data2.drop(\"Fare\", axis = 1)"
   ],
   "metadata": {
    "id": "ljOc7LzxZh_Q",
    "execution": {
     "iopub.status.busy": "2023-11-10T07:07:44.419721Z",
     "iopub.execute_input": "2023-11-10T07:07:44.420266Z",
     "iopub.status.idle": "2023-11-10T07:07:44.446908Z",
     "shell.execute_reply.started": "2023-11-10T07:07:44.420221Z",
     "shell.execute_reply": "2023-11-10T07:07:44.445914Z"
    },
    "trusted": true,
    "ExecuteTime": {
     "end_time": "2023-11-14T09:07:23.887557Z",
     "start_time": "2023-11-14T09:07:23.812433Z"
    }
   },
   "execution_count": 20,
   "outputs": []
  },
  {
   "cell_type": "code",
   "source": [
    "def label_ticket(x):\n",
    "    if x in [\"F\", \"1\", \"P\", \"9\"]:\n",
    "        return \"Ticket_high\"\n",
    "    elif x in [\"S\", \"C\", \"2\"]:\n",
    "        return \"Ticket_middle\"\n",
    "    else:\n",
    "        return \"Ticket_low\"\n",
    "\n",
    "data1[\"Ticket\"] = data1[\"Ticket\"].apply(lambda x: str(x)[0])\n",
    "data2[\"Ticket\"] = data2[\"Ticket\"].apply(lambda x: str(x)[0])\n",
    "\n",
    "data1[\"Ticket_cat\"] = data1[\"Ticket\"].apply(lambda x: label_ticket(x))\n",
    "data2[\"Ticket_cat\"] = data2[\"Ticket\"].apply(lambda x: label_ticket(x))\n",
    "\n",
    "\n",
    "data1 = data1.drop(\"Ticket\", axis = 1)\n",
    "data2 = data2.drop(\"Ticket\", axis = 1)"
   ],
   "metadata": {
    "id": "eDQTqQp-ZrBd",
    "execution": {
     "iopub.status.busy": "2023-11-10T07:07:44.448753Z",
     "iopub.execute_input": "2023-11-10T07:07:44.449527Z",
     "iopub.status.idle": "2023-11-10T07:07:44.470071Z",
     "shell.execute_reply.started": "2023-11-10T07:07:44.449482Z",
     "shell.execute_reply": "2023-11-10T07:07:44.468703Z"
    },
    "trusted": true,
    "ExecuteTime": {
     "end_time": "2023-11-14T09:07:23.888631Z",
     "start_time": "2023-11-14T09:07:23.818247Z"
    }
   },
   "execution_count": 21,
   "outputs": []
  },
  {
   "cell_type": "code",
   "source": [
    "def assign_label_title(title):\n",
    "    if title in [\"the Countess\", \"Mlle\", \"Lady\", \"Ms\", \"Sir\", \"Mme\", \"Mrs\", \"Miss\", \"Master\"]:\n",
    "        return \"Title_high\"\n",
    "    elif title in [\"Major\", \"Col\", \"Dr\"]:\n",
    "        return \"Title_middle\"\n",
    "    else:\n",
    "        return \"Title_low\"\n",
    "\n",
    "data1[\"Title\"] = data1['Name'].str.split(', ', expand=True)[1].str.split('.', expand=True)[0]\n",
    "data2[\"Title\"] = data2['Name'].str.split(', ', expand=True)[1].str.split('.', expand=True)[0]\n",
    "\n",
    "data1[\"Title\"] = data1[\"Title\"].apply(lambda x: assign_label_title(x))\n",
    "data2[\"Title\"] = data2[\"Title\"].apply(lambda x: assign_label_title(x))\n",
    "\n",
    "data1 = data1.drop(\"Name\", axis = 1)\n",
    "data2 = data2.drop(\"Name\", axis = 1)"
   ],
   "metadata": {
    "id": "gd62dz4VcmE3",
    "execution": {
     "iopub.status.busy": "2023-11-10T07:07:44.471484Z",
     "iopub.execute_input": "2023-11-10T07:07:44.471845Z",
     "iopub.status.idle": "2023-11-10T07:07:44.506800Z",
     "shell.execute_reply.started": "2023-11-10T07:07:44.471813Z",
     "shell.execute_reply": "2023-11-10T07:07:44.505249Z"
    },
    "trusted": true,
    "ExecuteTime": {
     "end_time": "2023-11-14T09:07:23.888714Z",
     "start_time": "2023-11-14T09:07:23.823773Z"
    }
   },
   "execution_count": 22,
   "outputs": []
  },
  {
   "cell_type": "code",
   "source": [
    "data1[\"family_size\"] = data1[\"SibSp\"] + data1[\"Parch\"]\n",
    "data2[\"family_size\"] = data2[\"SibSp\"] + data2[\"Parch\"]"
   ],
   "metadata": {
    "id": "O4y8pPoJdZIq",
    "execution": {
     "iopub.status.busy": "2023-11-10T07:07:44.508637Z",
     "iopub.execute_input": "2023-11-10T07:07:44.509502Z",
     "iopub.status.idle": "2023-11-10T07:07:44.531946Z",
     "shell.execute_reply.started": "2023-11-10T07:07:44.509452Z",
     "shell.execute_reply": "2023-11-10T07:07:44.530598Z"
    },
    "trusted": true,
    "ExecuteTime": {
     "end_time": "2023-11-14T09:07:23.888771Z",
     "start_time": "2023-11-14T09:07:23.829246Z"
    }
   },
   "execution_count": 23,
   "outputs": []
  },
  {
   "cell_type": "code",
   "source": [
    "def family_label(family_size):\n",
    "    if family_size == 0:\n",
    "        return \"Alone\"\n",
    "    elif family_size <=3:\n",
    "        return \"Small_family\"\n",
    "    else:\n",
    "        return \"Big_family\"\n",
    "\n",
    "data1[\"family_size\"] = data1[\"family_size\"].apply(lambda x: family_label(x))\n",
    "data2[\"family_size\"] = data2[\"family_size\"].apply(lambda x: family_label(x))\n",
    "\n",
    "data1 = data1.drop(\"SibSp\", axis=1)\n",
    "data1 = data1.drop(\"Parch\", axis =1)\n",
    "\n",
    "data2 = data2.drop(\"Parch\", axis =1)\n",
    "data2 = data2.drop(\"SibSp\", axis =1)"
   ],
   "metadata": {
    "id": "mLfgroB0d3Tg",
    "execution": {
     "iopub.status.busy": "2023-11-10T07:07:44.533344Z",
     "iopub.execute_input": "2023-11-10T07:07:44.533688Z",
     "iopub.status.idle": "2023-11-10T07:07:44.557925Z",
     "shell.execute_reply.started": "2023-11-10T07:07:44.533659Z",
     "shell.execute_reply": "2023-11-10T07:07:44.556725Z"
    },
    "trusted": true,
    "ExecuteTime": {
     "end_time": "2023-11-14T09:07:23.888830Z",
     "start_time": "2023-11-14T09:07:23.835004Z"
    }
   },
   "execution_count": 24,
   "outputs": []
  },
  {
   "cell_type": "code",
   "source": [
    "data1 = data1.drop(\"PassengerId\", axis = 1)\n",
    "data2 = data2.drop(\"PassengerId\", axis = 1)"
   ],
   "metadata": {
    "id": "G9RCA1OLr1cW",
    "execution": {
     "iopub.status.busy": "2023-11-10T07:07:44.559462Z",
     "iopub.execute_input": "2023-11-10T07:07:44.560334Z",
     "iopub.status.idle": "2023-11-10T07:07:44.570997Z",
     "shell.execute_reply.started": "2023-11-10T07:07:44.560291Z",
     "shell.execute_reply": "2023-11-10T07:07:44.569679Z"
    },
    "trusted": true,
    "ExecuteTime": {
     "end_time": "2023-11-14T09:07:23.888884Z",
     "start_time": "2023-11-14T09:07:23.838141Z"
    }
   },
   "execution_count": 25,
   "outputs": []
  },
  {
   "cell_type": "code",
   "source": [
    "data1_new = data1.copy()\n",
    "data2_new = data2.copy()"
   ],
   "metadata": {
    "id": "haHw1CKtuXmv",
    "execution": {
     "iopub.status.busy": "2023-11-10T07:07:44.572449Z",
     "iopub.execute_input": "2023-11-10T07:07:44.573180Z",
     "iopub.status.idle": "2023-11-10T07:07:44.592104Z",
     "shell.execute_reply.started": "2023-11-10T07:07:44.573144Z",
     "shell.execute_reply": "2023-11-10T07:07:44.591105Z"
    },
    "trusted": true,
    "ExecuteTime": {
     "end_time": "2023-11-14T09:07:23.888939Z",
     "start_time": "2023-11-14T09:07:23.841003Z"
    }
   },
   "execution_count": 26,
   "outputs": []
  },
  {
   "cell_type": "code",
   "source": [
    "\n",
    "labelEncoder = LabelEncoder()\n",
    "data1_new[\"Sex\"] = labelEncoder.fit_transform(data1[[\"Sex\"]].values.ravel())\n",
    "data2_new[\"Sex\"] = labelEncoder.fit_transform(data2_new[[\"Sex\"]].values.ravel())"
   ],
   "metadata": {
    "id": "D5C-UqN7s_bo",
    "execution": {
     "iopub.status.busy": "2023-11-10T07:07:44.593618Z",
     "iopub.execute_input": "2023-11-10T07:07:44.594736Z",
     "iopub.status.idle": "2023-11-10T07:07:44.615030Z",
     "shell.execute_reply.started": "2023-11-10T07:07:44.594697Z",
     "shell.execute_reply": "2023-11-10T07:07:44.613874Z"
    },
    "trusted": true,
    "ExecuteTime": {
     "end_time": "2023-11-14T09:07:23.889150Z",
     "start_time": "2023-11-14T09:07:23.843809Z"
    }
   },
   "execution_count": 27,
   "outputs": []
  },
  {
   "cell_type": "code",
   "source": [
    "data1_new = pd.get_dummies(columns=[\"Pclass\", \"Embarked\", \"Ticket_cat\", \"Fare_cat\",\"Cabin_first\",\"Title\", \"family_size\"], data=data1_new, drop_first=True)\n",
    "data2_new = pd.get_dummies(columns=[\"Pclass\", \"Embarked\", \"Ticket_cat\", \"Fare_cat\", \"Cabin_first\",\"Title\", \"family_size\"], data=data2_new, drop_first=True)"
   ],
   "metadata": {
    "id": "KcSI7LXMrRIy",
    "execution": {
     "iopub.status.busy": "2023-11-10T07:07:44.616845Z",
     "iopub.execute_input": "2023-11-10T07:07:44.617238Z",
     "iopub.status.idle": "2023-11-10T07:07:44.647679Z",
     "shell.execute_reply.started": "2023-11-10T07:07:44.617204Z",
     "shell.execute_reply": "2023-11-10T07:07:44.646568Z"
    },
    "trusted": true,
    "ExecuteTime": {
     "end_time": "2023-11-14T09:07:23.889991Z",
     "start_time": "2023-11-14T09:07:23.848683Z"
    }
   },
   "execution_count": 28,
   "outputs": []
  },
  {
   "cell_type": "code",
   "source": [
    "train = data1_new.copy()\n",
    "test = data2_new.copy() \n",
    "\n",
    "X = train.drop(\"Survived\", axis = 1)\n",
    "y = train[\"Survived\"]\n",
    "\n",
    "X_train, X_test, y_train, y_test = train_test_split(X,y, test_size = 0.3, random_state = 42, stratify=y)"
   ],
   "metadata": {
    "id": "mMMpqBO1wJoy",
    "execution": {
     "iopub.status.busy": "2023-11-10T07:07:44.649205Z",
     "iopub.execute_input": "2023-11-10T07:07:44.650378Z",
     "iopub.status.idle": "2023-11-10T07:07:44.662277Z",
     "shell.execute_reply.started": "2023-11-10T07:07:44.650337Z",
     "shell.execute_reply": "2023-11-10T07:07:44.660667Z"
    },
    "trusted": true,
    "ExecuteTime": {
     "end_time": "2023-11-14T09:07:23.890092Z",
     "start_time": "2023-11-14T09:07:23.854677Z"
    }
   },
   "execution_count": 29,
   "outputs": []
  },
  {
   "cell_type": "markdown",
   "source": [
    "### **Random Forest**"
   ],
   "metadata": {
    "id": "-4GbWmYiz34H"
   }
  },
  {
   "cell_type": "code",
   "source": [
    "rf = RandomForestClassifier()\n",
    "\n",
    "params = {'n_estimators': [100,300,500,700,1000],\n",
    "          'max_depth': [3,5,7],\n",
    "          'criterion':['entropy', 'gini'],\n",
    "          'min_samples_leaf' : [1, 2, 3, 4, 5],\n",
    "          'max_features':['auto'],\n",
    "          'min_samples_split': [3, 5, 10],\n",
    "          'max_leaf_nodes':[2,3,5,7],\n",
    "          }\n",
    "\n",
    "rf_cv = RandomizedSearchCV(rf, params, cv = 10, n_jobs=-1, verbose=2).fit(X_train, y_train)"
   ],
   "metadata": {
    "id": "1vPc8lyCzaTr",
    "execution": {
     "iopub.status.busy": "2023-11-10T07:07:44.664021Z",
     "iopub.execute_input": "2023-11-10T07:07:44.664917Z",
     "iopub.status.idle": "2023-11-10T07:08:35.950685Z",
     "shell.execute_reply.started": "2023-11-10T07:07:44.664865Z",
     "shell.execute_reply": "2023-11-10T07:08:35.948884Z"
    },
    "trusted": true,
    "ExecuteTime": {
     "end_time": "2023-11-14T09:07:25.570306Z",
     "start_time": "2023-11-14T09:07:23.861575Z"
    }
   },
   "execution_count": 30,
   "outputs": [
    {
     "name": "stdout",
     "output_type": "stream",
     "text": [
      "Fitting 10 folds for each of 10 candidates, totalling 100 fits\n"
     ]
    },
    {
     "ename": "ValueError",
     "evalue": "\nAll the 100 fits failed.\nIt is very likely that your model is misconfigured.\nYou can try to debug the error by setting error_score='raise'.\n\nBelow are more details about the failures:\n--------------------------------------------------------------------------------\n86 fits failed with the following error:\nTraceback (most recent call last):\n  File \"/Users/justin/miniconda3/envs/MachineLearning/lib/python3.10/site-packages/sklearn/model_selection/_validation.py\", line 732, in _fit_and_score\n    estimator.fit(X_train, y_train, **fit_params)\n  File \"/Users/justin/miniconda3/envs/MachineLearning/lib/python3.10/site-packages/sklearn/base.py\", line 1144, in wrapper\n    estimator._validate_params()\n  File \"/Users/justin/miniconda3/envs/MachineLearning/lib/python3.10/site-packages/sklearn/base.py\", line 637, in _validate_params\n    validate_parameter_constraints(\n  File \"/Users/justin/miniconda3/envs/MachineLearning/lib/python3.10/site-packages/sklearn/utils/_param_validation.py\", line 95, in validate_parameter_constraints\n    raise InvalidParameterError(\nsklearn.utils._param_validation.InvalidParameterError: The 'max_features' parameter of RandomForestClassifier must be an int in the range [1, inf), a float in the range (0.0, 1.0], a str among {'sqrt', 'log2'} or None. Got 'auto' instead.\n\n--------------------------------------------------------------------------------\n14 fits failed with the following error:\nTraceback (most recent call last):\n  File \"/Users/justin/miniconda3/envs/MachineLearning/lib/python3.10/site-packages/sklearn/model_selection/_validation.py\", line 732, in _fit_and_score\n    estimator.fit(X_train, y_train, **fit_params)\n  File \"/Users/justin/miniconda3/envs/MachineLearning/lib/python3.10/site-packages/sklearn/base.py\", line 1144, in wrapper\n    estimator._validate_params()\n  File \"/Users/justin/miniconda3/envs/MachineLearning/lib/python3.10/site-packages/sklearn/base.py\", line 637, in _validate_params\n    validate_parameter_constraints(\n  File \"/Users/justin/miniconda3/envs/MachineLearning/lib/python3.10/site-packages/sklearn/utils/_param_validation.py\", line 95, in validate_parameter_constraints\n    raise InvalidParameterError(\nsklearn.utils._param_validation.InvalidParameterError: The 'max_features' parameter of RandomForestClassifier must be an int in the range [1, inf), a float in the range (0.0, 1.0], a str among {'log2', 'sqrt'} or None. Got 'auto' instead.\n",
     "output_type": "error",
     "traceback": [
      "\u001B[0;31m---------------------------------------------------------------------------\u001B[0m",
      "\u001B[0;31mValueError\u001B[0m                                Traceback (most recent call last)",
      "Cell \u001B[0;32mIn[30], line 12\u001B[0m\n\u001B[1;32m      1\u001B[0m rf \u001B[38;5;241m=\u001B[39m RandomForestClassifier()\n\u001B[1;32m      3\u001B[0m params \u001B[38;5;241m=\u001B[39m {\u001B[38;5;124m'\u001B[39m\u001B[38;5;124mn_estimators\u001B[39m\u001B[38;5;124m'\u001B[39m: [\u001B[38;5;241m100\u001B[39m,\u001B[38;5;241m300\u001B[39m,\u001B[38;5;241m500\u001B[39m,\u001B[38;5;241m700\u001B[39m,\u001B[38;5;241m1000\u001B[39m],\n\u001B[1;32m      4\u001B[0m           \u001B[38;5;124m'\u001B[39m\u001B[38;5;124mmax_depth\u001B[39m\u001B[38;5;124m'\u001B[39m: [\u001B[38;5;241m3\u001B[39m,\u001B[38;5;241m5\u001B[39m,\u001B[38;5;241m7\u001B[39m],\n\u001B[1;32m      5\u001B[0m           \u001B[38;5;124m'\u001B[39m\u001B[38;5;124mcriterion\u001B[39m\u001B[38;5;124m'\u001B[39m:[\u001B[38;5;124m'\u001B[39m\u001B[38;5;124mentropy\u001B[39m\u001B[38;5;124m'\u001B[39m, \u001B[38;5;124m'\u001B[39m\u001B[38;5;124mgini\u001B[39m\u001B[38;5;124m'\u001B[39m],\n\u001B[0;32m   (...)\u001B[0m\n\u001B[1;32m      9\u001B[0m           \u001B[38;5;124m'\u001B[39m\u001B[38;5;124mmax_leaf_nodes\u001B[39m\u001B[38;5;124m'\u001B[39m:[\u001B[38;5;241m2\u001B[39m,\u001B[38;5;241m3\u001B[39m,\u001B[38;5;241m5\u001B[39m,\u001B[38;5;241m7\u001B[39m],\n\u001B[1;32m     10\u001B[0m           }\n\u001B[0;32m---> 12\u001B[0m rf_cv \u001B[38;5;241m=\u001B[39m \u001B[43mRandomizedSearchCV\u001B[49m\u001B[43m(\u001B[49m\u001B[43mrf\u001B[49m\u001B[43m,\u001B[49m\u001B[43m \u001B[49m\u001B[43mparams\u001B[49m\u001B[43m,\u001B[49m\u001B[43m \u001B[49m\u001B[43mcv\u001B[49m\u001B[43m \u001B[49m\u001B[38;5;241;43m=\u001B[39;49m\u001B[43m \u001B[49m\u001B[38;5;241;43m10\u001B[39;49m\u001B[43m,\u001B[49m\u001B[43m \u001B[49m\u001B[43mn_jobs\u001B[49m\u001B[38;5;241;43m=\u001B[39;49m\u001B[38;5;241;43m-\u001B[39;49m\u001B[38;5;241;43m1\u001B[39;49m\u001B[43m,\u001B[49m\u001B[43m \u001B[49m\u001B[43mverbose\u001B[49m\u001B[38;5;241;43m=\u001B[39;49m\u001B[38;5;241;43m2\u001B[39;49m\u001B[43m)\u001B[49m\u001B[38;5;241;43m.\u001B[39;49m\u001B[43mfit\u001B[49m\u001B[43m(\u001B[49m\u001B[43mX_train\u001B[49m\u001B[43m,\u001B[49m\u001B[43m \u001B[49m\u001B[43my_train\u001B[49m\u001B[43m)\u001B[49m\n",
      "File \u001B[0;32m~/miniconda3/envs/MachineLearning/lib/python3.10/site-packages/sklearn/base.py:1151\u001B[0m, in \u001B[0;36m_fit_context.<locals>.decorator.<locals>.wrapper\u001B[0;34m(estimator, *args, **kwargs)\u001B[0m\n\u001B[1;32m   1144\u001B[0m     estimator\u001B[38;5;241m.\u001B[39m_validate_params()\n\u001B[1;32m   1146\u001B[0m \u001B[38;5;28;01mwith\u001B[39;00m config_context(\n\u001B[1;32m   1147\u001B[0m     skip_parameter_validation\u001B[38;5;241m=\u001B[39m(\n\u001B[1;32m   1148\u001B[0m         prefer_skip_nested_validation \u001B[38;5;129;01mor\u001B[39;00m global_skip_validation\n\u001B[1;32m   1149\u001B[0m     )\n\u001B[1;32m   1150\u001B[0m ):\n\u001B[0;32m-> 1151\u001B[0m     \u001B[38;5;28;01mreturn\u001B[39;00m \u001B[43mfit_method\u001B[49m\u001B[43m(\u001B[49m\u001B[43mestimator\u001B[49m\u001B[43m,\u001B[49m\u001B[43m \u001B[49m\u001B[38;5;241;43m*\u001B[39;49m\u001B[43margs\u001B[49m\u001B[43m,\u001B[49m\u001B[43m \u001B[49m\u001B[38;5;241;43m*\u001B[39;49m\u001B[38;5;241;43m*\u001B[39;49m\u001B[43mkwargs\u001B[49m\u001B[43m)\u001B[49m\n",
      "File \u001B[0;32m~/miniconda3/envs/MachineLearning/lib/python3.10/site-packages/sklearn/model_selection/_search.py:898\u001B[0m, in \u001B[0;36mBaseSearchCV.fit\u001B[0;34m(self, X, y, groups, **fit_params)\u001B[0m\n\u001B[1;32m    892\u001B[0m     results \u001B[38;5;241m=\u001B[39m \u001B[38;5;28mself\u001B[39m\u001B[38;5;241m.\u001B[39m_format_results(\n\u001B[1;32m    893\u001B[0m         all_candidate_params, n_splits, all_out, all_more_results\n\u001B[1;32m    894\u001B[0m     )\n\u001B[1;32m    896\u001B[0m     \u001B[38;5;28;01mreturn\u001B[39;00m results\n\u001B[0;32m--> 898\u001B[0m \u001B[38;5;28;43mself\u001B[39;49m\u001B[38;5;241;43m.\u001B[39;49m\u001B[43m_run_search\u001B[49m\u001B[43m(\u001B[49m\u001B[43mevaluate_candidates\u001B[49m\u001B[43m)\u001B[49m\n\u001B[1;32m    900\u001B[0m \u001B[38;5;66;03m# multimetric is determined here because in the case of a callable\u001B[39;00m\n\u001B[1;32m    901\u001B[0m \u001B[38;5;66;03m# self.scoring the return type is only known after calling\u001B[39;00m\n\u001B[1;32m    902\u001B[0m first_test_score \u001B[38;5;241m=\u001B[39m all_out[\u001B[38;5;241m0\u001B[39m][\u001B[38;5;124m\"\u001B[39m\u001B[38;5;124mtest_scores\u001B[39m\u001B[38;5;124m\"\u001B[39m]\n",
      "File \u001B[0;32m~/miniconda3/envs/MachineLearning/lib/python3.10/site-packages/sklearn/model_selection/_search.py:1806\u001B[0m, in \u001B[0;36mRandomizedSearchCV._run_search\u001B[0;34m(self, evaluate_candidates)\u001B[0m\n\u001B[1;32m   1804\u001B[0m \u001B[38;5;28;01mdef\u001B[39;00m \u001B[38;5;21m_run_search\u001B[39m(\u001B[38;5;28mself\u001B[39m, evaluate_candidates):\n\u001B[1;32m   1805\u001B[0m \u001B[38;5;250m    \u001B[39m\u001B[38;5;124;03m\"\"\"Search n_iter candidates from param_distributions\"\"\"\u001B[39;00m\n\u001B[0;32m-> 1806\u001B[0m     \u001B[43mevaluate_candidates\u001B[49m\u001B[43m(\u001B[49m\n\u001B[1;32m   1807\u001B[0m \u001B[43m        \u001B[49m\u001B[43mParameterSampler\u001B[49m\u001B[43m(\u001B[49m\n\u001B[1;32m   1808\u001B[0m \u001B[43m            \u001B[49m\u001B[38;5;28;43mself\u001B[39;49m\u001B[38;5;241;43m.\u001B[39;49m\u001B[43mparam_distributions\u001B[49m\u001B[43m,\u001B[49m\u001B[43m \u001B[49m\u001B[38;5;28;43mself\u001B[39;49m\u001B[38;5;241;43m.\u001B[39;49m\u001B[43mn_iter\u001B[49m\u001B[43m,\u001B[49m\u001B[43m \u001B[49m\u001B[43mrandom_state\u001B[49m\u001B[38;5;241;43m=\u001B[39;49m\u001B[38;5;28;43mself\u001B[39;49m\u001B[38;5;241;43m.\u001B[39;49m\u001B[43mrandom_state\u001B[49m\n\u001B[1;32m   1809\u001B[0m \u001B[43m        \u001B[49m\u001B[43m)\u001B[49m\n\u001B[1;32m   1810\u001B[0m \u001B[43m    \u001B[49m\u001B[43m)\u001B[49m\n",
      "File \u001B[0;32m~/miniconda3/envs/MachineLearning/lib/python3.10/site-packages/sklearn/model_selection/_search.py:875\u001B[0m, in \u001B[0;36mBaseSearchCV.fit.<locals>.evaluate_candidates\u001B[0;34m(candidate_params, cv, more_results)\u001B[0m\n\u001B[1;32m    868\u001B[0m \u001B[38;5;28;01melif\u001B[39;00m \u001B[38;5;28mlen\u001B[39m(out) \u001B[38;5;241m!=\u001B[39m n_candidates \u001B[38;5;241m*\u001B[39m n_splits:\n\u001B[1;32m    869\u001B[0m     \u001B[38;5;28;01mraise\u001B[39;00m \u001B[38;5;167;01mValueError\u001B[39;00m(\n\u001B[1;32m    870\u001B[0m         \u001B[38;5;124m\"\u001B[39m\u001B[38;5;124mcv.split and cv.get_n_splits returned \u001B[39m\u001B[38;5;124m\"\u001B[39m\n\u001B[1;32m    871\u001B[0m         \u001B[38;5;124m\"\u001B[39m\u001B[38;5;124minconsistent results. Expected \u001B[39m\u001B[38;5;132;01m{}\u001B[39;00m\u001B[38;5;124m \u001B[39m\u001B[38;5;124m\"\u001B[39m\n\u001B[1;32m    872\u001B[0m         \u001B[38;5;124m\"\u001B[39m\u001B[38;5;124msplits, got \u001B[39m\u001B[38;5;132;01m{}\u001B[39;00m\u001B[38;5;124m\"\u001B[39m\u001B[38;5;241m.\u001B[39mformat(n_splits, \u001B[38;5;28mlen\u001B[39m(out) \u001B[38;5;241m/\u001B[39m\u001B[38;5;241m/\u001B[39m n_candidates)\n\u001B[1;32m    873\u001B[0m     )\n\u001B[0;32m--> 875\u001B[0m \u001B[43m_warn_or_raise_about_fit_failures\u001B[49m\u001B[43m(\u001B[49m\u001B[43mout\u001B[49m\u001B[43m,\u001B[49m\u001B[43m \u001B[49m\u001B[38;5;28;43mself\u001B[39;49m\u001B[38;5;241;43m.\u001B[39;49m\u001B[43merror_score\u001B[49m\u001B[43m)\u001B[49m\n\u001B[1;32m    877\u001B[0m \u001B[38;5;66;03m# For callable self.scoring, the return type is only know after\u001B[39;00m\n\u001B[1;32m    878\u001B[0m \u001B[38;5;66;03m# calling. If the return type is a dictionary, the error scores\u001B[39;00m\n\u001B[1;32m    879\u001B[0m \u001B[38;5;66;03m# can now be inserted with the correct key. The type checking\u001B[39;00m\n\u001B[1;32m    880\u001B[0m \u001B[38;5;66;03m# of out will be done in `_insert_error_scores`.\u001B[39;00m\n\u001B[1;32m    881\u001B[0m \u001B[38;5;28;01mif\u001B[39;00m \u001B[38;5;28mcallable\u001B[39m(\u001B[38;5;28mself\u001B[39m\u001B[38;5;241m.\u001B[39mscoring):\n",
      "File \u001B[0;32m~/miniconda3/envs/MachineLearning/lib/python3.10/site-packages/sklearn/model_selection/_validation.py:414\u001B[0m, in \u001B[0;36m_warn_or_raise_about_fit_failures\u001B[0;34m(results, error_score)\u001B[0m\n\u001B[1;32m    407\u001B[0m \u001B[38;5;28;01mif\u001B[39;00m num_failed_fits \u001B[38;5;241m==\u001B[39m num_fits:\n\u001B[1;32m    408\u001B[0m     all_fits_failed_message \u001B[38;5;241m=\u001B[39m (\n\u001B[1;32m    409\u001B[0m         \u001B[38;5;124mf\u001B[39m\u001B[38;5;124m\"\u001B[39m\u001B[38;5;130;01m\\n\u001B[39;00m\u001B[38;5;124mAll the \u001B[39m\u001B[38;5;132;01m{\u001B[39;00mnum_fits\u001B[38;5;132;01m}\u001B[39;00m\u001B[38;5;124m fits failed.\u001B[39m\u001B[38;5;130;01m\\n\u001B[39;00m\u001B[38;5;124m\"\u001B[39m\n\u001B[1;32m    410\u001B[0m         \u001B[38;5;124m\"\u001B[39m\u001B[38;5;124mIt is very likely that your model is misconfigured.\u001B[39m\u001B[38;5;130;01m\\n\u001B[39;00m\u001B[38;5;124m\"\u001B[39m\n\u001B[1;32m    411\u001B[0m         \u001B[38;5;124m\"\u001B[39m\u001B[38;5;124mYou can try to debug the error by setting error_score=\u001B[39m\u001B[38;5;124m'\u001B[39m\u001B[38;5;124mraise\u001B[39m\u001B[38;5;124m'\u001B[39m\u001B[38;5;124m.\u001B[39m\u001B[38;5;130;01m\\n\u001B[39;00m\u001B[38;5;130;01m\\n\u001B[39;00m\u001B[38;5;124m\"\u001B[39m\n\u001B[1;32m    412\u001B[0m         \u001B[38;5;124mf\u001B[39m\u001B[38;5;124m\"\u001B[39m\u001B[38;5;124mBelow are more details about the failures:\u001B[39m\u001B[38;5;130;01m\\n\u001B[39;00m\u001B[38;5;132;01m{\u001B[39;00mfit_errors_summary\u001B[38;5;132;01m}\u001B[39;00m\u001B[38;5;124m\"\u001B[39m\n\u001B[1;32m    413\u001B[0m     )\n\u001B[0;32m--> 414\u001B[0m     \u001B[38;5;28;01mraise\u001B[39;00m \u001B[38;5;167;01mValueError\u001B[39;00m(all_fits_failed_message)\n\u001B[1;32m    416\u001B[0m \u001B[38;5;28;01melse\u001B[39;00m:\n\u001B[1;32m    417\u001B[0m     some_fits_failed_message \u001B[38;5;241m=\u001B[39m (\n\u001B[1;32m    418\u001B[0m         \u001B[38;5;124mf\u001B[39m\u001B[38;5;124m\"\u001B[39m\u001B[38;5;130;01m\\n\u001B[39;00m\u001B[38;5;132;01m{\u001B[39;00mnum_failed_fits\u001B[38;5;132;01m}\u001B[39;00m\u001B[38;5;124m fits failed out of a total of \u001B[39m\u001B[38;5;132;01m{\u001B[39;00mnum_fits\u001B[38;5;132;01m}\u001B[39;00m\u001B[38;5;124m.\u001B[39m\u001B[38;5;130;01m\\n\u001B[39;00m\u001B[38;5;124m\"\u001B[39m\n\u001B[1;32m    419\u001B[0m         \u001B[38;5;124m\"\u001B[39m\u001B[38;5;124mThe score on these train-test partitions for these parameters\u001B[39m\u001B[38;5;124m\"\u001B[39m\n\u001B[0;32m   (...)\u001B[0m\n\u001B[1;32m    423\u001B[0m         \u001B[38;5;124mf\u001B[39m\u001B[38;5;124m\"\u001B[39m\u001B[38;5;124mBelow are more details about the failures:\u001B[39m\u001B[38;5;130;01m\\n\u001B[39;00m\u001B[38;5;132;01m{\u001B[39;00mfit_errors_summary\u001B[38;5;132;01m}\u001B[39;00m\u001B[38;5;124m\"\u001B[39m\n\u001B[1;32m    424\u001B[0m     )\n",
      "\u001B[0;31mValueError\u001B[0m: \nAll the 100 fits failed.\nIt is very likely that your model is misconfigured.\nYou can try to debug the error by setting error_score='raise'.\n\nBelow are more details about the failures:\n--------------------------------------------------------------------------------\n86 fits failed with the following error:\nTraceback (most recent call last):\n  File \"/Users/justin/miniconda3/envs/MachineLearning/lib/python3.10/site-packages/sklearn/model_selection/_validation.py\", line 732, in _fit_and_score\n    estimator.fit(X_train, y_train, **fit_params)\n  File \"/Users/justin/miniconda3/envs/MachineLearning/lib/python3.10/site-packages/sklearn/base.py\", line 1144, in wrapper\n    estimator._validate_params()\n  File \"/Users/justin/miniconda3/envs/MachineLearning/lib/python3.10/site-packages/sklearn/base.py\", line 637, in _validate_params\n    validate_parameter_constraints(\n  File \"/Users/justin/miniconda3/envs/MachineLearning/lib/python3.10/site-packages/sklearn/utils/_param_validation.py\", line 95, in validate_parameter_constraints\n    raise InvalidParameterError(\nsklearn.utils._param_validation.InvalidParameterError: The 'max_features' parameter of RandomForestClassifier must be an int in the range [1, inf), a float in the range (0.0, 1.0], a str among {'sqrt', 'log2'} or None. Got 'auto' instead.\n\n--------------------------------------------------------------------------------\n14 fits failed with the following error:\nTraceback (most recent call last):\n  File \"/Users/justin/miniconda3/envs/MachineLearning/lib/python3.10/site-packages/sklearn/model_selection/_validation.py\", line 732, in _fit_and_score\n    estimator.fit(X_train, y_train, **fit_params)\n  File \"/Users/justin/miniconda3/envs/MachineLearning/lib/python3.10/site-packages/sklearn/base.py\", line 1144, in wrapper\n    estimator._validate_params()\n  File \"/Users/justin/miniconda3/envs/MachineLearning/lib/python3.10/site-packages/sklearn/base.py\", line 637, in _validate_params\n    validate_parameter_constraints(\n  File \"/Users/justin/miniconda3/envs/MachineLearning/lib/python3.10/site-packages/sklearn/utils/_param_validation.py\", line 95, in validate_parameter_constraints\n    raise InvalidParameterError(\nsklearn.utils._param_validation.InvalidParameterError: The 'max_features' parameter of RandomForestClassifier must be an int in the range [1, inf), a float in the range (0.0, 1.0], a str among {'log2', 'sqrt'} or None. Got 'auto' instead.\n"
     ]
    }
   ]
  },
  {
   "cell_type": "code",
   "source": [
    "rf_cv.best_params_\n",
    "best_rf_model = rf_cv.best_estimator_"
   ],
   "metadata": {
    "id": "AjB4KMMIMpCr",
    "outputId": "dbd02eb8-5c65-40ae-cfba-4400514b4c26",
    "execution": {
     "iopub.status.busy": "2023-11-10T07:08:35.952933Z",
     "iopub.execute_input": "2023-11-10T07:08:35.953509Z",
     "iopub.status.idle": "2023-11-10T07:08:35.962374Z",
     "shell.execute_reply.started": "2023-11-10T07:08:35.953457Z",
     "shell.execute_reply": "2023-11-10T07:08:35.960743Z"
    },
    "trusted": true,
    "ExecuteTime": {
     "end_time": "2023-11-14T09:07:25.572414Z",
     "start_time": "2023-11-14T09:07:25.570717Z"
    }
   },
   "execution_count": null,
   "outputs": []
  },
  {
   "cell_type": "code",
   "source": [
    "rf_pred = rf_cv.predict(X_test)"
   ],
   "metadata": {
    "id": "gXd1B-zUM9ra",
    "outputId": "278f514a-150c-4511-89c8-e592b2d51584",
    "execution": {
     "iopub.status.busy": "2023-11-10T07:08:35.964006Z",
     "iopub.execute_input": "2023-11-10T07:08:35.964385Z",
     "iopub.status.idle": "2023-11-10T07:08:35.997836Z",
     "shell.execute_reply.started": "2023-11-10T07:08:35.964355Z",
     "shell.execute_reply": "2023-11-10T07:08:35.996550Z"
    },
    "trusted": true,
    "ExecuteTime": {
     "start_time": "2023-11-14T09:07:25.572290Z"
    }
   },
   "execution_count": null,
   "outputs": []
  },
  {
   "cell_type": "code",
   "source": [
    "Importance = pd.DataFrame({\"Importance\": best_rf_model.feature_importances_*100},\n",
    "                         index = X_train.columns)\n",
    "Importance.sort_values(by = \"Importance\", axis = 0,ascending = True)"
   ],
   "metadata": {
    "id": "A0dCU3u_WMbT",
    "outputId": "f39f65c5-8ce5-4d77-a333-a62baff97cd3",
    "execution": {
     "iopub.status.busy": "2023-11-10T07:08:36.005314Z",
     "iopub.execute_input": "2023-11-10T07:08:36.006253Z",
     "iopub.status.idle": "2023-11-10T07:08:36.031053Z",
     "shell.execute_reply.started": "2023-11-10T07:08:36.006180Z",
     "shell.execute_reply": "2023-11-10T07:08:36.029887Z"
    },
    "trusted": true,
    "ExecuteTime": {
     "end_time": "2023-11-14T09:07:25.573895Z",
     "start_time": "2023-11-14T09:07:25.573411Z"
    }
   },
   "execution_count": null,
   "outputs": []
  },
  {
   "cell_type": "code",
   "source": [
    "last_model=RandomForestClassifier(max_depth=3, max_leaf_nodes=7, min_samples_leaf=3,\n",
    "                       min_samples_split=10, n_estimators=500).fit(X,y)"
   ],
   "metadata": {
    "id": "OHM-vKdFWyxr",
    "execution": {
     "iopub.status.busy": "2023-11-10T07:08:36.032713Z",
     "iopub.execute_input": "2023-11-10T07:08:36.033122Z",
     "iopub.status.idle": "2023-11-10T07:08:37.314131Z",
     "shell.execute_reply.started": "2023-11-10T07:08:36.033089Z",
     "shell.execute_reply": "2023-11-10T07:08:37.312604Z"
    },
    "trusted": true,
    "ExecuteTime": {
     "start_time": "2023-11-14T09:07:25.574647Z"
    }
   },
   "execution_count": null,
   "outputs": []
  },
  {
   "cell_type": "code",
   "source": [
    "IDs = pd.read_csv(test_path)[[\"PassengerId\"]].values\n",
    "predictions = last_model.predict(test.values)"
   ],
   "metadata": {
    "id": "cXedfjpKXIJZ",
    "outputId": "1b6688e6-b2be-429d-d285-1a6d6f47b47f",
    "execution": {
     "iopub.status.busy": "2023-11-10T07:08:37.316534Z",
     "iopub.execute_input": "2023-11-10T07:08:37.317053Z",
     "iopub.status.idle": "2023-11-10T07:08:37.389484Z",
     "shell.execute_reply.started": "2023-11-10T07:08:37.317006Z",
     "shell.execute_reply": "2023-11-10T07:08:37.388065Z"
    },
    "trusted": true,
    "ExecuteTime": {
     "start_time": "2023-11-14T09:07:25.575941Z"
    }
   },
   "execution_count": null,
   "outputs": []
  },
  {
   "cell_type": "markdown",
   "source": [
    "<a id=\"6\"></a> <br>\n",
    "# **Submission**"
   ],
   "metadata": {}
  },
  {
   "cell_type": "code",
   "source": [
    "result_df = {'PassengerId': IDs.ravel(), 'Survived':predictions}\n",
    "submission = pd.DataFrame(result_df)\n",
    "display(submission.head())"
   ],
   "metadata": {
    "id": "kzFpY9fSl2em",
    "outputId": "da72fef0-0fe9-45e0-ddc0-0617f42b25a3",
    "execution": {
     "iopub.status.busy": "2023-11-10T07:08:37.391141Z",
     "iopub.execute_input": "2023-11-10T07:08:37.391896Z",
     "iopub.status.idle": "2023-11-10T07:08:37.408103Z",
     "shell.execute_reply.started": "2023-11-10T07:08:37.391845Z",
     "shell.execute_reply": "2023-11-10T07:08:37.405951Z"
    },
    "trusted": true,
    "ExecuteTime": {
     "start_time": "2023-11-14T09:07:25.576847Z"
    }
   },
   "execution_count": null,
   "outputs": []
  },
  {
   "cell_type": "code",
   "source": [
    "submission.to_csv(\"titanic_sub.csv\", index=False)"
   ],
   "metadata": {
    "id": "BC69mnNiYygm",
    "execution": {
     "iopub.status.busy": "2023-11-10T07:08:37.410190Z",
     "iopub.execute_input": "2023-11-10T07:08:37.410809Z",
     "iopub.status.idle": "2023-11-10T07:08:37.426662Z",
     "shell.execute_reply.started": "2023-11-10T07:08:37.410766Z",
     "shell.execute_reply": "2023-11-10T07:08:37.425094Z"
    },
    "trusted": true,
    "ExecuteTime": {
     "start_time": "2023-11-14T09:07:25.577722Z"
    }
   },
   "execution_count": null,
   "outputs": []
  },
  {
   "cell_type": "code",
   "source": [],
   "metadata": {
    "trusted": true,
    "ExecuteTime": {
     "start_time": "2023-11-14T09:07:25.578388Z"
    }
   },
   "execution_count": null,
   "outputs": []
  }
 ]
}
